{
 "cells": [
  {
   "cell_type": "code",
   "execution_count": 1,
   "metadata": {},
   "outputs": [
    {
     "name": "stdout",
     "output_type": "stream",
     "text": [
      "Các node lân cận với node KS125LS6N7WP4S6SFTCK: ['KSX8XEUJP0WPFTO8V53Q', 'KS122106DWYK3LL2JCSZ', 'ESB090E9B0D229CA4D52ESB090E9B0D229CA4D52', 'KS7G74M6Z05Y33ZQSTQJ', 'KS125QB77MSGPH63NTCP', 'KS120D96FHL88PZDKZKH', 'KS120X767ZQ3210N2306', 'KS1219W70LY1GXZDSKW5', 'KS7LO8P3MXB93R3C9RWL', 'ESA5839C44D0970CF79F', 'KS1261Z68KSKR1X31KS3', 'KS123GK6Z30G7QTFCY4N', 'KS124DQ6JX0NX9DBFDM8', 'ESD07FEE22E7EC094EB8', 'KS7G0C36YW29VS8KPC05', 'KS128866SGR2RY0R5T83']\n"
     ]
    }
   ],
   "source": [
    "import json\n",
    "import networkx as nx\n",
    "import matplotlib.pyplot as plt\n",
    "\n",
    "json_file_path_full = 'Data\\DB\\skill_db_all_related.json' \n",
    "\n",
    "with open(json_file_path_full, 'r') as file:\n",
    "    data = json.load(file)\n",
    "\n",
    "G = nx.Graph()\n",
    "\n",
    "for node, edges in data.items():\n",
    "    for edge in edges:\n",
    "        G.add_edge(node, edge, weight=1)  \n",
    "\n",
    "def find_all_path_lengths(graph, start_id, end_id):\n",
    "    try:\n",
    "        path_lengths = []\n",
    "        for path in nx.all_simple_paths(graph, source=start_id, target=end_id):\n",
    "            path_lengths.append(len(path) - 1)\n",
    "        return path_lengths\n",
    "    except nx.NetworkXNoPath:\n",
    "        return None\n",
    "\n",
    "def find_shortest_path(graph, start_id, end_id):\n",
    "    try:\n",
    "        path = nx.shortest_path(graph, source=start_id, target=end_id, weight='weight')\n",
    "        return path\n",
    "    except nx.NetworkXNoPath:\n",
    "        return None\n",
    "\n",
    "# start_id = input('Nhập điểm bắt đầu:')\n",
    "# end_id = input('Nhập điểm kết thúc:')\n",
    "# shortest_path = find_shortest_path(G, start_id, end_id)\n",
    "\n",
    "# if shortest_path:\n",
    "#     formatted_path = \" --> \".join(shortest_path)\n",
    "#     print(f\"Đường đi ngắn nhất giữa {start_id} và {end_id}: {formatted_path}\")\n",
    "# else:\n",
    "#     print(f\"Không có đường đi từ {start_id} đến {end_id}\")\n",
    "    \n",
    "node_id = input('Nhập ID node bạn muốn tìm các node lân cận: ')\n",
    "\n",
    "# Sử dụng phương thức neighbors() để lấy tất cả các node lân cận\n",
    "try:\n",
    "    neighbors = list(G.neighbors(node_id))\n",
    "    print(f\"Các node lân cận với node {node_id}: {neighbors}\")\n",
    "except nx.NetworkXError as e:\n",
    "    print(f\"Lỗi: {e}\")\n"
   ]
  },
  {
   "cell_type": "code",
   "execution_count": null,
   "metadata": {},
   "outputs": [],
   "source": []
  }
 ],
 "metadata": {
  "kernelspec": {
   "display_name": "env",
   "language": "python",
   "name": "python3"
  },
  "language_info": {
   "codemirror_mode": {
    "name": "ipython",
    "version": 3
   },
   "file_extension": ".py",
   "mimetype": "text/x-python",
   "name": "python",
   "nbconvert_exporter": "python",
   "pygments_lexer": "ipython3",
   "version": "3.11.3"
  }
 },
 "nbformat": 4,
 "nbformat_minor": 2
}
